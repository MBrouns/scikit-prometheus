{
 "cells": [
  {
   "cell_type": "code",
   "execution_count": 3,
   "id": "36b2caeb-dc67-42b0-b5a0-44d05294366f",
   "metadata": {},
   "outputs": [],
   "source": [
    "from itertools import product"
   ]
  },
  {
   "cell_type": "code",
   "execution_count": 5,
   "id": "fd68b796-f46d-4d8b-ad5d-908d62e79561",
   "metadata": {},
   "outputs": [
    {
     "name": "stdout",
     "output_type": "stream",
     "text": [
      "eva bounty\n",
      "eva mars\n",
      "eva ice cream\n",
      "valeria bounty\n",
      "valeria mars\n",
      "valeria ice cream\n"
     ]
    }
   ],
   "source": [
    "for x, y in product([\"eva\", \"valeria\"], [\"bounty\", \"mars\", \"ice cream\"]):\n",
    "    print(x,y)"
   ]
  },
  {
   "cell_type": "code",
   "execution_count": null,
   "id": "3594d32f-b974-4430-8f5b-1245dff9ca35",
   "metadata": {},
   "outputs": [],
   "source": []
  }
 ],
 "metadata": {
  "kernelspec": {
   "display_name": "Python 3 (ipykernel)",
   "language": "python",
   "name": "python3"
  },
  "language_info": {
   "codemirror_mode": {
    "name": "ipython",
    "version": 3
   },
   "file_extension": ".py",
   "mimetype": "text/x-python",
   "name": "python",
   "nbconvert_exporter": "python",
   "pygments_lexer": "ipython3",
   "version": "3.9.7"
  }
 },
 "nbformat": 4,
 "nbformat_minor": 5
}
